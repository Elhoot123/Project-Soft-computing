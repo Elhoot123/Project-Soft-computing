{
  "nbformat": 4,
  "nbformat_minor": 0,
  "metadata": {
    "colab": {
      "provenance": []
    },
    "kernelspec": {
      "name": "python3",
      "display_name": "Python 3"
    },
    "language_info": {
      "name": "python"
    }
  },
  "cells": [
    {
      "cell_type": "code",
      "execution_count": null,
      "metadata": {
        "id": "RzscnEOUXLx3"
      },
      "outputs": [],
      "source": [
        "import pandas as pd\n",
        "import numpy as np\n",
        "import matplotlib.pyplot as plt\n",
        "from sklearn.preprocessing import LabelEncoder\n",
        "from sklearn.model_selection import train_test_split\n",
        "from sklearn.linear_model import LinearRegression\n",
        "from sklearn.metrics import mean_squared_error,accuracy_score,recall_score, f1_score\n",
        "from sklearn.linear_model import LogisticRegression\n",
        "import random\n",
        "import warnings\n",
        "warnings.filterwarnings(\"ignore\")"
      ]
    },
    {
      "cell_type": "code",
      "source": [
        "\n",
        "data = pd.read_csv('/content/heart_attack_prediction_dataset.csv')\n",
        "data = data.drop('Patient ID', axis=1)\n",
        "\n",
        "data.plot()\n",
        "\n",
        "data.info()"
      ],
      "metadata": {
        "id": "wOdTviZqXemO"
      },
      "execution_count": null,
      "outputs": []
    },
    {
      "cell_type": "code",
      "source": [
        "categorical_columns = ['Sex', 'Blood Pressure', 'Diet', 'Country', 'Continent', 'Hemisphere']\n",
        "\n",
        "label_encoder = LabelEncoder()\n",
        "\n",
        "for col in categorical_columns:\n",
        "    data[col] = label_encoder.fit_transform(data[col])\n",
        "\n",
        "\n",
        "\n"
      ],
      "metadata": {
        "id": "bXJ05934XqaF"
      },
      "execution_count": null,
      "outputs": []
    },
    {
      "cell_type": "code",
      "source": [
        "data.info()\n",
        "data.isna().sum() #to display missing values Before cleaning"
      ],
      "metadata": {
        "id": "77Spm3ErXykl"
      },
      "execution_count": null,
      "outputs": []
    },
    {
      "cell_type": "code",
      "source": [
        "X = data.drop('Heart Attack Risk', axis=1)\n",
        "y = data['Heart Attack Risk']\n",
        "y=y.astype('int')\n"
      ],
      "metadata": {
        "id": "oSYB6znVX2--"
      },
      "execution_count": null,
      "outputs": []
    },
    {
      "cell_type": "code",
      "source": [
        "def calculate_accuracy(x):\n",
        "    X=data[x]\n",
        "    X_train, X_test, y_train, y_test = train_test_split(X, y, test_size= 0.30)\n",
        "    lgt_R = LogisticRegression(solver='lbfgs')\n",
        "    lgt_R.fit(X_train, y_train)\n",
        "    y_pred = lgt_R.predict(X_test)\n",
        "    accuracy=accuracy_score(y_test, y_pred)\n",
        "    print('Accuracy:',accuracy)\n",
        "    return accuracy\n"
      ],
      "metadata": {
        "id": "9XbVnsElX281"
      },
      "execution_count": null,
      "outputs": []
    },
    {
      "cell_type": "code",
      "source": [
        "columnsName=data.drop(labels= 'Heart Attack Risk', axis= 1).columns.values.tolist()\n",
        "print(columnsName)"
      ],
      "metadata": {
        "id": "xTSTIbEAX26d"
      },
      "execution_count": null,
      "outputs": []
    },
    {
      "cell_type": "code",
      "source": [
        "columnsName1=[0,1]\n",
        "chromosomes=[]\n",
        "for i in range(10):\n",
        "    chro1=[]\n",
        "    for i in range(24):\n",
        "        item = random.choice(tuple(columnsName1))\n",
        "        chro1.append(item)\n",
        "    chromosomes.append(chro1)\n"
      ],
      "metadata": {
        "id": "vJNIATuaX231"
      },
      "execution_count": null,
      "outputs": []
    },
    {
      "cell_type": "code",
      "source": [
        "def xata(chromosomes1):\n",
        "    chromosomes2=[]\n",
        "    for i in range(len(chromosomes1)):\n",
        "        if chromosomes1[i]==1:\n",
        "                chromosomes2.append(columnsName[i])\n",
        "    return chromosomes2\n"
      ],
      "metadata": {
        "id": "qPRrGupbYEpW"
      },
      "execution_count": null,
      "outputs": []
    },
    {
      "cell_type": "code",
      "source": [
        "pb=[]\n",
        "def checkpersonalnest():\n",
        "    for i in range(len(chromosomes)):\n",
        "         pb.append(calculate_accuracy(xata(chromosomes[i])))\n",
        "checkpersonalnest()"
      ],
      "metadata": {
        "id": "p0uVYVJ0YRfN"
      },
      "execution_count": null,
      "outputs": []
    },
    {
      "cell_type": "code",
      "source": [
        "print(columnsName)\n"
      ],
      "metadata": {
        "id": "jkSJJBKFYWDF"
      },
      "execution_count": null,
      "outputs": []
    },
    {
      "cell_type": "code",
      "source": [
        "def checkvelocity(globalbest):\n",
        "    velocity=[]\n",
        "    for j in range(len(chromosomes)):\n",
        "        velocity.append(list(0+1*(np.random.random(1)[0])*(np.array(chromosomes[j])-np.array(chromosomes[j]))+1*(np.random.random(1)[0])*(np.array(globalbest)-np.array(chromosomes[j]))))\n",
        "    #print(velocity)\n",
        "    return velocity\n",
        "\n"
      ],
      "metadata": {
        "id": "QD_U-NH4YYK9"
      },
      "execution_count": null,
      "outputs": []
    },
    {
      "cell_type": "code",
      "source": [
        "def addingchromosomes(velocity):\n",
        "    chromosomes2=[]\n",
        "    for i in range(len(velocity)):\n",
        "        nextchromo=[]\n",
        "        for j in range(len(velocity[i])):\n",
        "            nextchromo.append(chromosomes[i][j]+velocity[i][j])\n",
        "        chromosomes2.append(nextchromo)\n",
        "    return chromosomes2\n",
        "\n"
      ],
      "metadata": {
        "id": "dZIi6-q1Ye0t"
      },
      "execution_count": null,
      "outputs": []
    },
    {
      "cell_type": "code",
      "source": [
        "def normalize(chromosomes2):\n",
        "    for l in range(len(chromosomes2)):\n",
        "        for m in range(len(chromosomes2[l])):\n",
        "            if chromosomes2[l][m]>0.5:\n",
        "                chromosomes2[l][m]=1\n",
        "            else:\n",
        "                chromosomes2[l][m]=0\n",
        "    return chromosomes2\n",
        "\n"
      ],
      "metadata": {
        "id": "9PjGdQzBYtRU"
      },
      "execution_count": null,
      "outputs": []
    },
    {
      "cell_type": "code",
      "source": [
        "def checkpd(chromosomes2):\n",
        "    personal=[]\n",
        "    for i in range(len(chromosomes2)):\n",
        "        personal.append(calculate_accuracy(xata(chromosomes2[i])))\n",
        "    for j in range(len(personal)):\n",
        "        if(personal[j]>pb[j]):\n",
        "            chromosomes[j]=chromosomes2[j]\n",
        "            pb[j]=personal[j]\n",
        "    return personal\n",
        "\n"
      ],
      "metadata": {
        "id": "G3FWibQ-YtPd"
      },
      "execution_count": null,
      "outputs": []
    },
    {
      "cell_type": "code",
      "source": [
        "max(pb)\n",
        "ind = pb.index(max(pb))\n",
        "globalbest=chromosomes[ind]\n",
        "for i in range(20):\n",
        "    chromosomes2=[]\n",
        "    personal=[]\n",
        "    velocity=checkvelocity(globalbest)\n",
        "    chromosomes2=addingchromosomes(velocity)\n",
        "    chromosomes2=normalize(chromosomes2)\n",
        "    personal=checkpd(chromosomes2)\n",
        "    globalbest=[]\n",
        "    max(pb)\n",
        "    ind = pb.index(max(pb))\n",
        "    globalbest=chromosomes[ind]\n",
        "\n",
        "\n",
        "\n",
        "\n"
      ],
      "metadata": {
        "id": "9VY4-N7OYtMt"
      },
      "execution_count": null,
      "outputs": []
    },
    {
      "cell_type": "code",
      "source": [
        "max(pb)"
      ],
      "metadata": {
        "id": "48xE365AYtKc"
      },
      "execution_count": null,
      "outputs": []
    },
    {
      "cell_type": "code",
      "source": [
        "ind = pb.index(max(pb))\n",
        "print(ind)\n",
        "globalbest=chromosomes[ind]\n",
        "\n",
        "\n",
        "print(xata(globalbest))\n"
      ],
      "metadata": {
        "id": "rG3GHFmcY9-c"
      },
      "execution_count": null,
      "outputs": []
    }
  ]
}